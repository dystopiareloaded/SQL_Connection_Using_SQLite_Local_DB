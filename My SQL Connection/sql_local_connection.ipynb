{
 "cells": [
  {
   "cell_type": "markdown",
   "metadata": {},
   "source": [
    "# CSV File to Sqlite Db in your machine"
   ]
  },
  {
   "cell_type": "code",
   "execution_count": null,
   "metadata": {},
   "outputs": [],
   "source": [
    "import sqlite3\n",
    "import pandas as pd\n",
    "\n",
    "# Load your CSV file\n",
    "df = pd.read_csv('your_file_name.csv')\n",
    "\n",
    "# Create an SQLite connection and export DataFrame to the database:\n",
    "\n",
    "# Create a connection to the SQLite database\n",
    "conn = sqlite3.connect('your_desired_file_name.db')\n",
    "\n",
    "# Export the DataFrame to a table in the SQLite database\n",
    "df.to_sql('your_desired_file_name', conn, if_exists='replace', index=False)\n",
    "\n",
    "# Close the connection\n",
    "#conn.close()\n",
    "\n",
    "# To read db file through pandas\n",
    "\n",
    "pd.read_sql_query(\"SELECT * FROM video_game_sales LIMIT 10;\", conn)\n",
    "\n",
    "# Also you can use cursor to fetch data without using pandas \n",
    "\n",
    "cursor = conn.cursor()\n",
    "\n",
    "# You can perform sql query with connect with db in your folder without using online database/ my sql workbench\n",
    "\n",
    "query = \"\"\" \n",
    "\n",
    "SELECT * FROM video_game_sales LIMIT 10\n",
    "\n",
    "\"\"\"\n",
    "\n",
    "cursor.execute(query)\n",
    "\n",
    "data = cursor.fetchall()\n",
    "\n",
    "\n"
   ]
  },
  {
   "cell_type": "markdown",
   "metadata": {},
   "source": [
    "# If the dataset has empty rows & columns"
   ]
  },
  {
   "cell_type": "code",
   "execution_count": null,
   "metadata": {},
   "outputs": [],
   "source": [
    "import sqlite3\n",
    "import pandas as pd\n",
    "\n",
    "# Load CSV\n",
    "df = pd.read_csv(\"video_game_sales.csv\")\n",
    "\n",
    "# Connect to SQLite (creates .db file locally)\n",
    "conn = sqlite3.connect(\"video_game_sales.db\")\n",
    "cursor = conn.cursor()\n",
    "\n",
    "# Create table\n",
    "cursor.execute(\"\"\"\n",
    "CREATE TABLE IF NOT EXISTS video_game_sales (\n",
    "    name TEXT,\n",
    "    platform TEXT,\n",
    "    year INTEGER,\n",
    "    genre TEXT,\n",
    "    publisher TEXT,\n",
    "    global_sales REAL\n",
    ")\n",
    "\"\"\")\n",
    "\n",
    "# Insert data into the table\n",
    "df.to_sql(\"video_game_sales\", conn, if_exists=\"replace\", index=False)\n",
    "\n",
    "print(\"✅ CSV successfully imported into video_game_sales.db\")\n",
    "conn.close()"
   ]
  },
  {
   "cell_type": "markdown",
   "metadata": {},
   "source": [
    "## Multi-CSV to SQLite"
   ]
  },
  {
   "cell_type": "code",
   "execution_count": null,
   "metadata": {},
   "outputs": [],
   "source": [
    "import sqlite3\n",
    "import pandas as pd\n",
    "\n",
    "# Define your CSV files and their corresponding table names\n",
    "csv_files = {\n",
    "    \"video_game_sales.csv\": \"video_game_sales\",\n",
    "    \"game_reviews.csv\": \"game_reviews\",\n",
    "    \"console_specs.csv\": \"console_specs\"\n",
    "}\n",
    "\n",
    "# Connect to SQLite database (will create the file if it doesn't exist)\n",
    "conn = sqlite3.connect(\"gaming_data.db\")\n",
    "\n",
    "# Loop through each file and write to SQLite\n",
    "for file, table in csv_files.items():\n",
    "    df = pd.read_csv(file)\n",
    "    df.to_sql(table, conn, if_exists=\"replace\", index=False)\n",
    "    print(f\"✅ Imported {file} into table '{table}'\")\n",
    "\n",
    "# Close the connection\n",
    "conn.close()\n",
    "print(\"🎉 All files successfully imported into gaming_data.db\")\n"
   ]
  },
  {
   "cell_type": "markdown",
   "metadata": {},
   "source": [
    "# DB helper for Streamlit"
   ]
  },
  {
   "cell_type": "code",
   "execution_count": null,
   "metadata": {},
   "outputs": [],
   "source": [
    "import sqlite3\n",
    "\n",
    "class DB:\n",
    "    def __init__(self, db_path=\"video_game_sales.db\"):\n",
    "        try:\n",
    "            self.conn = sqlite3.connect(db_path)\n",
    "            self.cursor = self.conn.cursor()\n",
    "            print(\"✅ SQLite DB connected\")\n",
    "        except Exception as e:\n",
    "            print(\"❌ Connection failed:\", e)\n",
    "\n",
    "    def fetch_genres(self):\n",
    "        self.cursor.execute(\"SELECT DISTINCT genre FROM video_game_sales ORDER BY genre\")\n",
    "        return [row[0] for row in self.cursor.fetchall()]"
   ]
  }
 ],
 "metadata": {
  "kernelspec": {
   "display_name": "base",
   "language": "python",
   "name": "python3"
  },
  "language_info": {
   "codemirror_mode": {
    "name": "ipython",
    "version": 3
   },
   "file_extension": ".py",
   "mimetype": "text/x-python",
   "name": "python",
   "nbconvert_exporter": "python",
   "pygments_lexer": "ipython3",
   "version": "3.12.7"
  }
 },
 "nbformat": 4,
 "nbformat_minor": 2
}
