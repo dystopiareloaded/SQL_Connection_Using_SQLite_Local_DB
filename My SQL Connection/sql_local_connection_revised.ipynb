{
 "cells": [
  {
   "cell_type": "markdown",
   "metadata": {},
   "source": [
    "## ✅ Full SQLAlchemy + SQLite Code (No os, No try-except)"
   ]
  },
  {
   "cell_type": "code",
   "execution_count": null,
   "metadata": {},
   "outputs": [],
   "source": [
    "# Step 1: Import required libraries\n",
    "import pandas as pd\n",
    "from sqlalchemy import create_engine\n",
    "\n",
    "# Step 2: Define CSV files and corresponding table names\n",
    "csv_files = {\n",
    "    \"customers.csv\": \"customers\",\n",
    "    \"geolocation.csv\": \"geolocation\",\n",
    "    \"order_items.csv\": \"order_items\",\n",
    "    \"orders.csv\": \"orders\",\n",
    "    \"payments.csv\": \"payments\",\n",
    "    \"products.csv\": \"products\",\n",
    "    \"sellers.csv\": \"sellers\"\n",
    "}\n",
    "\n",
    "# Step 3: Create SQLite engine\n",
    "engine = create_engine('sqlite:///ecommerce_data.db')\n",
    "\n",
    "# Step 4: Read and load each CSV into SQLite\n",
    "for file_path, table_name in csv_files.items():\n",
    "    df = pd.read_csv(file_path)\n",
    "    df.to_sql(table_name, con=engine, if_exists='replace', index=False)\n",
    "    print(f\"✅ Imported '{file_path}' into table '{table_name}'\")\n",
    "\n",
    "# Step 5: Run a sample SQL query\n",
    "query = \"SELECT COUNT(*) AS total_orders FROM orders\"\n",
    "result = pd.read_sql(query, con=engine)\n",
    "print(result)\n"
   ]
  },
  {
   "cell_type": "markdown",
   "metadata": {},
   "source": [
    "## ✅ SQLAlchemy + SQLite Loader (Without os)"
   ]
  },
  {
   "cell_type": "code",
   "execution_count": null,
   "metadata": {},
   "outputs": [],
   "source": [
    "# Step 1: Import required libraries\n",
    "import pandas as pd\n",
    "from sqlalchemy import create_engine\n",
    "\n",
    "# Step 2: Set CSV files and table names\n",
    "csv_files = {\n",
    "    \"customers.csv\": \"customers\",\n",
    "    \"geolocation.csv\": \"geolocation\",\n",
    "    \"order_items.csv\": \"order_items\",\n",
    "    \"orders.csv\": \"orders\",\n",
    "    \"payments.csv\": \"payments\",\n",
    "    \"products.csv\": \"products\",\n",
    "    \"sellers.csv\": \"sellers\"\n",
    "}\n",
    "\n",
    "# Step 3: Create SQLite engine\n",
    "engine = create_engine('sqlite:///ecommerce_data.db')\n",
    "\n",
    "# Step 4: Read each CSV and load into SQLite\n",
    "for file_path, table_name in csv_files.items():\n",
    "    try:\n",
    "        df = pd.read_csv(file_path)\n",
    "        df.to_sql(table_name, con=engine, if_exists='replace', index=False)\n",
    "        print(f\"✅ Imported '{file_path}' into table '{table_name}'\")\n",
    "    except FileNotFoundError:\n",
    "        print(f\"❌ File not found: {file_path}\")\n",
    "\n",
    "# Step 5: Sample SQL query\n",
    "try:\n",
    "    result = pd.read_sql(\"SELECT COUNT(*) as total_orders FROM orders\", con=engine)\n",
    "    print(result)\n",
    "except Exception as e:\n",
    "    print(f\"⚠️ Query failed: {e}\")\n"
   ]
  },
  {
   "cell_type": "markdown",
   "metadata": {},
   "source": [
    "## ✅ Full Code for Jupyter Notebook (Local Machine) (with os)"
   ]
  },
  {
   "cell_type": "code",
   "execution_count": null,
   "metadata": {},
   "outputs": [],
   "source": [
    "# Step 1: Import required libraries\n",
    "import pandas as pd\n",
    "from sqlalchemy import create_engine\n",
    "import os\n",
    "\n",
    "# Step 2: Set paths (CSV files should be in the same folder or provide full path)\n",
    "csv_files = {\n",
    "    \"customers.csv\": \"customers\",\n",
    "    \"geolocation.csv\": \"geolocation\",\n",
    "    \"order_items.csv\": \"order_items\",\n",
    "    \"orders.csv\": \"orders\",\n",
    "    \"payments.csv\": \"payments\",\n",
    "    \"products.csv\": \"products\",\n",
    "    \"sellers.csv\": \"sellers\"\n",
    "}\n",
    "\n",
    "# Step 3: Create SQLite engine (creates 'ecommerce_data.db' in current directory)\n",
    "engine = create_engine('sqlite:///ecommerce_data.db')  # 3 slashes for relative path\n",
    "\n",
    "# Step 4: Load each CSV into SQLite using SQLAlchemy\n",
    "for file_path, table_name in csv_files.items():\n",
    "    if os.path.exists(file_path):\n",
    "        df = pd.read_csv(file_path)\n",
    "        df.to_sql(table_name, con=engine, if_exists='replace', index=False)\n",
    "        print(f\"✅ Imported '{file_path}' as table '{table_name}'\")\n",
    "    else:\n",
    "        print(f\"❌ File not found: {file_path}\")\n",
    "\n",
    "# Step 5: Run a sample query\n",
    "query = \"SELECT COUNT(*) as total_orders FROM orders\"\n",
    "result = pd.read_sql(query, con=engine)\n",
    "print(result)\n"
   ]
  },
  {
   "cell_type": "markdown",
   "metadata": {},
   "source": [
    "## ✅ Full Code for One CSV File (Local Machine)"
   ]
  },
  {
   "cell_type": "code",
   "execution_count": null,
   "metadata": {},
   "outputs": [],
   "source": [
    "# Step 1: Import required libraries\n",
    "import pandas as pd\n",
    "from sqlalchemy import create_engine\n",
    "\n",
    "# Step 2: Set file and table name\n",
    "csv_file = \"your_file.csv\"         # Replace with your CSV file name\n",
    "table_name = \"your_table_name\"     # Choose a name for the SQL table\n",
    "\n",
    "# Step 3: Create SQLite engine\n",
    "engine = create_engine('sqlite:///my_database.db')  # Creates local SQLite file\n",
    "\n",
    "# Step 4: Read CSV and import into SQLite\n",
    "df = pd.read_csv(csv_file)\n",
    "df.to_sql(table_name, con=engine, if_exists='replace', index=False)\n",
    "print(f\"✅ Imported '{csv_file}' into table '{table_name}'\")\n",
    "\n",
    "# Step 5: Run a sample SQL query (modify as needed)\n",
    "query = f\"SELECT * FROM {table_name} LIMIT 5\"\n",
    "result = pd.read_sql(query, con=engine)\n",
    "print(result)\n"
   ]
  },
  {
   "cell_type": "markdown",
   "metadata": {},
   "source": [
    "## Full working code using SQLAlchemy + SQLite on Kaggle to load CSVs into a SQLite database"
   ]
  },
  {
   "cell_type": "code",
   "execution_count": null,
   "metadata": {},
   "outputs": [],
   "source": [
    "# Step 1: Import required libraries\n",
    "import pandas as pd\n",
    "from sqlalchemy import create_engine\n",
    "\n",
    "# Step 2: Create SQLAlchemy SQLite engine\n",
    "engine = create_engine('sqlite:////kaggle/working/ecommerce_data.db')\n",
    "\n",
    "# Step 3: Define CSV file paths and table names\n",
    "csv_files = {\n",
    "    \"/kaggle/input/target-dataset/customers.csv\": \"customers\",\n",
    "    \"/kaggle/input/target-dataset/geolocation.csv\": \"geolocation\",\n",
    "    \"/kaggle/input/target-dataset/order_items.csv\": \"order_items\",\n",
    "    \"/kaggle/input/target-dataset/orders.csv\": \"orders\",\n",
    "    \"/kaggle/input/target-dataset/payments.csv\": \"payments\",\n",
    "    \"/kaggle/input/target-dataset/products.csv\": \"products\",\n",
    "    \"/kaggle/input/target-dataset/sellers.csv\": \"sellers\"\n",
    "}\n",
    "\n",
    "# Step 4: Load each CSV into the SQLite database using SQLAlchemy\n",
    "for file_path, table_name in csv_files.items():\n",
    "    df = pd.read_csv(file_path)\n",
    "    df.to_sql(table_name, con=engine, if_exists='replace', index=False)\n",
    "    print(f\"✅ Imported '{file_path}' as table '{table_name}'\")\n",
    "\n",
    "# Step 5: Run a sample SQL query using pandas + SQLAlchemy\n",
    "query = \"SELECT COUNT(*) as total_orders FROM orders\"\n",
    "result = pd.read_sql(query, con=engine)\n",
    "print(result)\n"
   ]
  },
  {
   "cell_type": "markdown",
   "metadata": {},
   "source": [
    "## ✅ Edited Code for One CSV File in Kaggle (e.g., orders.csv)"
   ]
  },
  {
   "cell_type": "code",
   "execution_count": null,
   "metadata": {},
   "outputs": [],
   "source": [
    "# Step 1: Import required libraries\n",
    "import pandas as pd\n",
    "from sqlalchemy import create_engine\n",
    "\n",
    "# Step 2: Create SQLAlchemy SQLite engine\n",
    "engine = create_engine('sqlite:////kaggle/working/ecommerce_data.db')\n",
    "\n",
    "# Step 3: Set single CSV file and table name\n",
    "csv_file = \"/kaggle/input/target-dataset/orders.csv\"\n",
    "table_name = \"orders\"\n",
    "\n",
    "# Step 4: Read and import the CSV file into SQLite\n",
    "df = pd.read_csv(csv_file)\n",
    "df.to_sql(table_name, con=engine, if_exists='replace', index=False)\n",
    "print(f\"✅ Imported '{csv_file}' as table '{table_name}'\")\n",
    "\n",
    "# Step 5: Run a sample SQL query\n",
    "query = \"SELECT COUNT(*) as total_orders FROM orders\"\n",
    "result = pd.read_sql(query, con=engine)\n",
    "print(result)\n"
   ]
  }
 ],
 "metadata": {
  "kernelspec": {
   "display_name": "base",
   "language": "python",
   "name": "python3"
  },
  "language_info": {
   "name": "python",
   "version": "3.12.7"
  }
 },
 "nbformat": 4,
 "nbformat_minor": 2
}
